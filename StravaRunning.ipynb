{
 "metadata": {
  "language_info": {
   "codemirror_mode": {
    "name": "ipython",
    "version": 3
   },
   "file_extension": ".py",
   "mimetype": "text/x-python",
   "name": "python",
   "nbconvert_exporter": "python",
   "pygments_lexer": "ipython3",
   "version": "3.8.3-final"
  },
  "orig_nbformat": 2,
  "kernelspec": {
   "name": "Python 3.8.3 64-bit (conda)",
   "display_name": "Python 3.8.3 64-bit (conda)",
   "metadata": {
    "interpreter": {
     "hash": "9a443516413c2881eaa45503843a41caec010d6420f7e7f4b04a65c7fd85d327"
    }
   }
  }
 },
 "nbformat": 4,
 "nbformat_minor": 2,
 "cells": [
  {
   "cell_type": "code",
   "execution_count": 1,
   "metadata": {},
   "outputs": [],
   "source": [
    "import time\n",
    "import pandas as pd\n",
    "import numpy as np\n",
    "\n",
    "# For plotting\n",
    "import matplotlib\n",
    "import matplotlib.pyplot as plt\n",
    "import seaborn as sns\n"
   ]
  },
  {
   "source": [
    "## Gathering Data"
   ],
   "cell_type": "markdown",
   "metadata": {}
  },
  {
   "source": [
    "Strava has a publicly available API interface that allows developers to access Strava data. Mandie Quartly has wrote an excellent guide on how to grab your Strava data using Stravas API V3, this guide can be found [here](https://medium.com/@mandieq). The csv file that is read in the following section was retrieved using this guide.\n",
    "\n"
   ],
   "cell_type": "markdown",
   "metadata": {}
  },
  {
   "source": [
    "## Data Exploration"
   ],
   "cell_type": "markdown",
   "metadata": {}
  },
  {
   "cell_type": "code",
   "execution_count": 2,
   "metadata": {},
   "outputs": [
    {
     "output_type": "execute_result",
     "data": {
      "text/plain": [
       "   Unnamed: 0          id     start_date_local type  distance  \\\n",
       "0           0  4270212916  2020-11-01 10:41:51  Run    6257.7   \n",
       "1           1  4261801695  2020-10-30 12:11:15  Run    6509.1   \n",
       "2           2  4258427984  2020-10-29 14:34:26  Run    1313.1   \n",
       "3           3  4258403656  2020-10-29 14:03:07  Run    6466.1   \n",
       "4           4  4249784457  2020-10-27 13:49:43  Run    1275.3   \n",
       "\n",
       "                 moving_time               elapsed_time  total_elevation_gain  \\\n",
       "0  0 days 00:33:03.000000000  0 days 00:34:56.000000000                  12.2   \n",
       "1  0 days 00:32:31.000000000  0 days 00:32:31.000000000                  12.1   \n",
       "2  0 days 00:07:04.000000000  0 days 00:07:04.000000000                   5.9   \n",
       "3  0 days 00:30:34.000000000  0 days 00:30:34.000000000                   7.0   \n",
       "4  0 days 00:07:17.000000000  0 days 00:07:28.000000000                   5.8   \n",
       "\n",
       "   elev_high  elev_low  average_speed  max_speed  start_latitude  \\\n",
       "0       40.9      26.7          3.156        5.3       41.960250   \n",
       "1       40.1      26.7          3.336        7.0       41.960362   \n",
       "2       39.5      33.3          3.097        9.1       41.970032   \n",
       "3       40.1      26.3          3.526        5.0       41.960384   \n",
       "4       40.0      33.8          2.918        4.5       41.969520   \n",
       "\n",
       "   start_longitude  flagged  distance_km day_of_week  month_of_year  \n",
       "0         3.038900    False       6.2577      Sunday             11  \n",
       "1         3.039066    False       6.5091      Friday             10  \n",
       "2         3.033507    False       1.3131    Thursday             10  \n",
       "3         3.039412    False       6.4661    Thursday             10  \n",
       "4         3.033521    False       1.2753     Tuesday             10  "
      ],
      "text/html": "<div>\n<style scoped>\n    .dataframe tbody tr th:only-of-type {\n        vertical-align: middle;\n    }\n\n    .dataframe tbody tr th {\n        vertical-align: top;\n    }\n\n    .dataframe thead th {\n        text-align: right;\n    }\n</style>\n<table border=\"1\" class=\"dataframe\">\n  <thead>\n    <tr style=\"text-align: right;\">\n      <th></th>\n      <th>Unnamed: 0</th>\n      <th>id</th>\n      <th>start_date_local</th>\n      <th>type</th>\n      <th>distance</th>\n      <th>moving_time</th>\n      <th>elapsed_time</th>\n      <th>total_elevation_gain</th>\n      <th>elev_high</th>\n      <th>elev_low</th>\n      <th>average_speed</th>\n      <th>max_speed</th>\n      <th>start_latitude</th>\n      <th>start_longitude</th>\n      <th>flagged</th>\n      <th>distance_km</th>\n      <th>day_of_week</th>\n      <th>month_of_year</th>\n    </tr>\n  </thead>\n  <tbody>\n    <tr>\n      <th>0</th>\n      <td>0</td>\n      <td>4270212916</td>\n      <td>2020-11-01 10:41:51</td>\n      <td>Run</td>\n      <td>6257.7</td>\n      <td>0 days 00:33:03.000000000</td>\n      <td>0 days 00:34:56.000000000</td>\n      <td>12.2</td>\n      <td>40.9</td>\n      <td>26.7</td>\n      <td>3.156</td>\n      <td>5.3</td>\n      <td>41.960250</td>\n      <td>3.038900</td>\n      <td>False</td>\n      <td>6.2577</td>\n      <td>Sunday</td>\n      <td>11</td>\n    </tr>\n    <tr>\n      <th>1</th>\n      <td>1</td>\n      <td>4261801695</td>\n      <td>2020-10-30 12:11:15</td>\n      <td>Run</td>\n      <td>6509.1</td>\n      <td>0 days 00:32:31.000000000</td>\n      <td>0 days 00:32:31.000000000</td>\n      <td>12.1</td>\n      <td>40.1</td>\n      <td>26.7</td>\n      <td>3.336</td>\n      <td>7.0</td>\n      <td>41.960362</td>\n      <td>3.039066</td>\n      <td>False</td>\n      <td>6.5091</td>\n      <td>Friday</td>\n      <td>10</td>\n    </tr>\n    <tr>\n      <th>2</th>\n      <td>2</td>\n      <td>4258427984</td>\n      <td>2020-10-29 14:34:26</td>\n      <td>Run</td>\n      <td>1313.1</td>\n      <td>0 days 00:07:04.000000000</td>\n      <td>0 days 00:07:04.000000000</td>\n      <td>5.9</td>\n      <td>39.5</td>\n      <td>33.3</td>\n      <td>3.097</td>\n      <td>9.1</td>\n      <td>41.970032</td>\n      <td>3.033507</td>\n      <td>False</td>\n      <td>1.3131</td>\n      <td>Thursday</td>\n      <td>10</td>\n    </tr>\n    <tr>\n      <th>3</th>\n      <td>3</td>\n      <td>4258403656</td>\n      <td>2020-10-29 14:03:07</td>\n      <td>Run</td>\n      <td>6466.1</td>\n      <td>0 days 00:30:34.000000000</td>\n      <td>0 days 00:30:34.000000000</td>\n      <td>7.0</td>\n      <td>40.1</td>\n      <td>26.3</td>\n      <td>3.526</td>\n      <td>5.0</td>\n      <td>41.960384</td>\n      <td>3.039412</td>\n      <td>False</td>\n      <td>6.4661</td>\n      <td>Thursday</td>\n      <td>10</td>\n    </tr>\n    <tr>\n      <th>4</th>\n      <td>4</td>\n      <td>4249784457</td>\n      <td>2020-10-27 13:49:43</td>\n      <td>Run</td>\n      <td>1275.3</td>\n      <td>0 days 00:07:17.000000000</td>\n      <td>0 days 00:07:28.000000000</td>\n      <td>5.8</td>\n      <td>40.0</td>\n      <td>33.8</td>\n      <td>2.918</td>\n      <td>4.5</td>\n      <td>41.969520</td>\n      <td>3.033521</td>\n      <td>False</td>\n      <td>1.2753</td>\n      <td>Tuesday</td>\n      <td>10</td>\n    </tr>\n  </tbody>\n</table>\n</div>"
     },
     "metadata": {},
     "execution_count": 2
    }
   ],
   "source": [
    "df = pd.read_csv(\"activities.csv\")\n",
    "df.head()"
   ]
  }
 ]
}